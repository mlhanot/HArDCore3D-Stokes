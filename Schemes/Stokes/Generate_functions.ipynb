{
 "cells": [
  {
   "cell_type": "code",
   "execution_count": 1,
   "metadata": {},
   "outputs": [],
   "source": [
    "import sympy as sp\n",
    "import re\n",
    "x,y,z = sp.symbols('x y z')"
   ]
  },
  {
   "cell_type": "code",
   "execution_count": 2,
   "metadata": {},
   "outputs": [],
   "source": [
    "u = sp.Matrix([\n",
    "[(sp.sin(sp.pi*2*x) - sp.pi*2*x)*sp.sin(sp.pi*y)**2*sp.sin(sp.pi*z)**2 + sp.pi/4],\n",
    "[sp.sin(sp.pi*x)**2*(sp.sin(sp.pi*2*y) - sp.pi*2*y)*sp.sin(sp.pi*z)**2 + sp.pi/4],\n",
    "[sp.sin(sp.pi*x)**2*sp.sin(sp.pi*y)**2*2*(-sp.sin(sp.pi*2*z) + sp.pi*2*z) - sp.pi/2]])"
   ]
  },
  {
   "cell_type": "code",
   "execution_count": 3,
   "metadata": {},
   "outputs": [
    {
     "name": "stdout",
     "output_type": "stream",
     "text": [
      "Matrix([[0], [0], [0]])\n",
      "Matrix([[0], [0], [0]])\n",
      "Matrix([[0], [0], [0]])\n",
      "Matrix([[0], [0], [0]])\n",
      "Matrix([[0], [0], [0]])\n",
      "Matrix([[0], [0], [0]])\n"
     ]
    }
   ],
   "source": [
    "print(u.diff(x).subs(x,0))\n",
    "print(u.diff(x).subs(x,1))\n",
    "print(u.diff(y).subs(y,0))\n",
    "print(u.diff(y).subs(y,1))\n",
    "print(u.diff(z).subs(z,0))\n",
    "print(u.diff(z).subs(z,1))"
   ]
  },
  {
   "cell_type": "code",
   "execution_count": 4,
   "metadata": {},
   "outputs": [
    {
     "data": {
      "text/plain": [
       "0"
      ]
     },
     "execution_count": 4,
     "metadata": {},
     "output_type": "execute_result"
    }
   ],
   "source": [
    "(u[0].diff(x) + u[1].diff(y) + u[2].diff(z)).simplify()"
   ]
  },
  {
   "cell_type": "code",
   "execution_count": 5,
   "metadata": {},
   "outputs": [
    {
     "data": {
      "text/plain": [
       "Matrix([\n",
       "[0],\n",
       "[0],\n",
       "[0]])"
      ]
     },
     "execution_count": 5,
     "metadata": {},
     "output_type": "execute_result"
    }
   ],
   "source": [
    "sp.integrate(sp.integrate(sp.integrate(u,(x,0,1)),(y,0,1)),(z,0,1))"
   ]
  },
  {
   "cell_type": "code",
   "execution_count": 6,
   "metadata": {},
   "outputs": [],
   "source": [
    "Du = sp.Matrix([\n",
    "    [u[0].diff(x).diff(x) + u[0].diff(y).diff(y) + u[0].diff(z).diff(z)],\n",
    "    [u[1].diff(x).diff(x) + u[1].diff(y).diff(y) + u[1].diff(z).diff(z)],\n",
    "    [u[2].diff(x).diff(x) + u[2].diff(y).diff(y) + u[2].diff(z).diff(z)]\n",
    "])"
   ]
  },
  {
   "cell_type": "code",
   "execution_count": 7,
   "metadata": {},
   "outputs": [],
   "source": [
    "def tocpp(f):\n",
    "    tmp = sp.ccode(f)\n",
    "    tmp = re.sub('z','x(2)',re.sub('y','x(1)',re.sub('x','x(0)',tmp)))\n",
    "    tmp = re.sub('sin','std::sin',re.sub('cos','std::cos',re.sub('pow','std::pow',tmp)))\n",
    "    tmp = re.sub('M_PI','k',tmp)\n",
    "    return tmp\n"
   ]
  },
  {
   "cell_type": "code",
   "execution_count": 8,
   "metadata": {},
   "outputs": [
    {
     "name": "stdout",
     "output_type": "stream",
     "text": [
      "(-2*k*x(0) + std::sin(2*k*x(0)))*std::pow(std::sin(k*x(1)), 2)*std::pow(std::sin(k*x(2)), 2) + (1.0L/4.0L)*k\n",
      "(-2*k*x(1) + std::sin(2*k*x(1)))*std::pow(std::sin(k*x(0)), 2)*std::pow(std::sin(k*x(2)), 2) + (1.0L/4.0L)*k\n",
      "2*(2*k*x(2) - std::sin(2*k*x(2)))*std::pow(std::sin(k*x(0)), 2)*std::pow(std::sin(k*x(1)), 2) - 1.0L/2.0L*k\n"
     ]
    }
   ],
   "source": [
    "print(tocpp(u[0]))\n",
    "print(tocpp(u[1]))\n",
    "print(tocpp(u[2]))"
   ]
  },
  {
   "cell_type": "code",
   "execution_count": 9,
   "metadata": {},
   "outputs": [
    {
     "name": "stdout",
     "output_type": "stream",
     "text": [
      "4*std::pow(k, 2)*(-2*k*x(0) + std::sin(2*k*x(0)))*std::pow(std::sin(k*x(1)), 2)*std::pow(std::sin(k*x(2)), 2) - 2*std::pow(k, 2)*(-2*k*x(0) + std::sin(2*k*x(0)))*std::pow(std::sin(k*x(1)), 2)*std::pow(std::cos(k*x(2)), 2) - 2*std::pow(k, 2)*(-2*k*x(0) + std::sin(2*k*x(0)))*std::pow(std::sin(k*x(2)), 2)*std::pow(std::cos(k*x(1)), 2) + 4*std::pow(k, 2)*std::sin(2*k*x(0))*std::pow(std::sin(k*x(1)), 2)*std::pow(std::sin(k*x(2)), 2)\n",
      "4*std::pow(k, 2)*(-2*k*x(1) + std::sin(2*k*x(1)))*std::pow(std::sin(k*x(0)), 2)*std::pow(std::sin(k*x(2)), 2) - 2*std::pow(k, 2)*(-2*k*x(1) + std::sin(2*k*x(1)))*std::pow(std::sin(k*x(0)), 2)*std::pow(std::cos(k*x(2)), 2) - 2*std::pow(k, 2)*(-2*k*x(1) + std::sin(2*k*x(1)))*std::pow(std::sin(k*x(2)), 2)*std::pow(std::cos(k*x(0)), 2) + 4*std::pow(k, 2)*std::pow(std::sin(k*x(0)), 2)*std::sin(2*k*x(1))*std::pow(std::sin(k*x(2)), 2)\n",
      "8*std::pow(k, 2)*(2*k*x(2) - std::sin(2*k*x(2)))*std::pow(std::sin(k*x(0)), 2)*std::pow(std::sin(k*x(1)), 2) - 4*std::pow(k, 2)*(2*k*x(2) - std::sin(2*k*x(2)))*std::pow(std::sin(k*x(0)), 2)*std::pow(std::cos(k*x(1)), 2) - 4*std::pow(k, 2)*(2*k*x(2) - std::sin(2*k*x(2)))*std::pow(std::sin(k*x(1)), 2)*std::pow(std::cos(k*x(0)), 2) - 8*std::pow(k, 2)*std::pow(std::sin(k*x(0)), 2)*std::pow(std::sin(k*x(1)), 2)*std::sin(2*k*x(2))\n"
     ]
    }
   ],
   "source": [
    "print(tocpp(-Du[0]))\n",
    "print(tocpp(-Du[1]))\n",
    "print(tocpp(-Du[2]))"
   ]
  },
  {
   "cell_type": "code",
   "execution_count": 10,
   "metadata": {},
   "outputs": [],
   "source": [
    "p = sp.sin(sp.pi*x)*y*(1-y)*sp.sin(sp.pi*z)"
   ]
  },
  {
   "cell_type": "code",
   "execution_count": 11,
   "metadata": {},
   "outputs": [
    {
     "name": "stdout",
     "output_type": "stream",
     "text": [
      "0\n",
      "0\n",
      "0\n",
      "0\n",
      "0\n",
      "0\n"
     ]
    }
   ],
   "source": [
    "print(p.subs(x,0))\n",
    "print(p.subs(x,1))\n",
    "print(p.subs(y,0))\n",
    "print(p.subs(y,1))\n",
    "print(p.subs(z,0))\n",
    "print(p.subs(z,1))"
   ]
  },
  {
   "cell_type": "code",
   "execution_count": 12,
   "metadata": {},
   "outputs": [
    {
     "name": "stdout",
     "output_type": "stream",
     "text": [
      "x(1)*(-x(1) + 1)*std::sin(k*x(0))*std::sin(k*x(2))\n"
     ]
    }
   ],
   "source": [
    "print(tocpp(p))"
   ]
  },
  {
   "cell_type": "code",
   "execution_count": 13,
   "metadata": {},
   "outputs": [
    {
     "name": "stdout",
     "output_type": "stream",
     "text": [
      "k*x(1)*(-x(1) + 1)*std::sin(k*x(2))*std::cos(k*x(0)) + 4*std::pow(k, 2)*(-2*k*x(0) + std::sin(2*k*x(0)))*std::pow(std::sin(k*x(1)), 2)*std::pow(std::sin(k*x(2)), 2) - 2*std::pow(k, 2)*(-2*k*x(0) + std::sin(2*k*x(0)))*std::pow(std::sin(k*x(1)), 2)*std::pow(std::cos(k*x(2)), 2) - 2*std::pow(k, 2)*(-2*k*x(0) + std::sin(2*k*x(0)))*std::pow(std::sin(k*x(2)), 2)*std::pow(std::cos(k*x(1)), 2) + 4*std::pow(k, 2)*std::sin(2*k*x(0))*std::pow(std::sin(k*x(1)), 2)*std::pow(std::sin(k*x(2)), 2)\n",
      "-x(1)*std::sin(k*x(0))*std::sin(k*x(2)) + (-x(1) + 1)*std::sin(k*x(0))*std::sin(k*x(2)) + 4*std::pow(k, 2)*(-2*k*x(1) + std::sin(2*k*x(1)))*std::pow(std::sin(k*x(0)), 2)*std::pow(std::sin(k*x(2)), 2) - 2*std::pow(k, 2)*(-2*k*x(1) + std::sin(2*k*x(1)))*std::pow(std::sin(k*x(0)), 2)*std::pow(std::cos(k*x(2)), 2) - 2*std::pow(k, 2)*(-2*k*x(1) + std::sin(2*k*x(1)))*std::pow(std::sin(k*x(2)), 2)*std::pow(std::cos(k*x(0)), 2) + 4*std::pow(k, 2)*std::pow(std::sin(k*x(0)), 2)*std::sin(2*k*x(1))*std::pow(std::sin(k*x(2)), 2)\n",
      "k*x(1)*(-x(1) + 1)*std::sin(k*x(0))*std::cos(k*x(2)) + 8*std::pow(k, 2)*(2*k*x(2) - std::sin(2*k*x(2)))*std::pow(std::sin(k*x(0)), 2)*std::pow(std::sin(k*x(1)), 2) - 4*std::pow(k, 2)*(2*k*x(2) - std::sin(2*k*x(2)))*std::pow(std::sin(k*x(0)), 2)*std::pow(std::cos(k*x(1)), 2) - 4*std::pow(k, 2)*(2*k*x(2) - std::sin(2*k*x(2)))*std::pow(std::sin(k*x(1)), 2)*std::pow(std::cos(k*x(0)), 2) - 8*std::pow(k, 2)*std::pow(std::sin(k*x(0)), 2)*std::pow(std::sin(k*x(1)), 2)*std::sin(2*k*x(2))\n"
     ]
    }
   ],
   "source": [
    "print(tocpp(p.diff(x)-Du[0]))\n",
    "print(tocpp(p.diff(y)-Du[1]))\n",
    "print(tocpp(p.diff(z)-Du[2]))"
   ]
  },
  {
   "cell_type": "code",
   "execution_count": null,
   "metadata": {},
   "outputs": [],
   "source": []
  }
 ],
 "metadata": {
  "kernelspec": {
   "display_name": "Python 3",
   "language": "python",
   "name": "python3"
  },
  "language_info": {
   "codemirror_mode": {
    "name": "ipython",
    "version": 3
   },
   "file_extension": ".py",
   "mimetype": "text/x-python",
   "name": "python",
   "nbconvert_exporter": "python",
   "pygments_lexer": "ipython3",
   "version": "3.6.9"
  }
 },
 "nbformat": 4,
 "nbformat_minor": 4
}
